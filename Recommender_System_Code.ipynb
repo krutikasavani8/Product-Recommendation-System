{
 "cells": [
  {
   "cell_type": "code",
   "execution_count": 1,
   "metadata": {},
   "outputs": [],
   "source": [
    "import warnings\n",
    "warnings.filterwarnings('ignore')\n",
    "\n",
    "import pandas as pd\n",
    "import numpy as np\n",
    "\n",
    "import matplotlib.pyplot as plt\n",
    "\n",
    "from sklearn.metrics.pairwise import cosine_similarity\n",
    "\n",
    "from sklearn.metrics import mean_squared_error\n"
   ]
  },
  {
   "cell_type": "code",
   "execution_count": 2,
   "metadata": {},
   "outputs": [
    {
     "data": {
      "text/html": [
       "<div>\n",
       "<style scoped>\n",
       "    .dataframe tbody tr th:only-of-type {\n",
       "        vertical-align: middle;\n",
       "    }\n",
       "\n",
       "    .dataframe tbody tr th {\n",
       "        vertical-align: top;\n",
       "    }\n",
       "\n",
       "    .dataframe thead th {\n",
       "        text-align: right;\n",
       "    }\n",
       "</style>\n",
       "<table border=\"1\" class=\"dataframe\">\n",
       "  <thead>\n",
       "    <tr style=\"text-align: right;\">\n",
       "      <th></th>\n",
       "      <th>A2XVJBSRI3SWDI</th>\n",
       "      <th>0000031887</th>\n",
       "      <th>5.0</th>\n",
       "      <th>1383523200</th>\n",
       "    </tr>\n",
       "  </thead>\n",
       "  <tbody>\n",
       "    <tr>\n",
       "      <th>0</th>\n",
       "      <td>A2G0LNLN79Q6HR</td>\n",
       "      <td>0000031887</td>\n",
       "      <td>4.0</td>\n",
       "      <td>1337990400</td>\n",
       "    </tr>\n",
       "    <tr>\n",
       "      <th>1</th>\n",
       "      <td>A2R3K1KX09QBYP</td>\n",
       "      <td>0000031887</td>\n",
       "      <td>2.0</td>\n",
       "      <td>1361059200</td>\n",
       "    </tr>\n",
       "    <tr>\n",
       "      <th>2</th>\n",
       "      <td>A19PBP93OF896</td>\n",
       "      <td>0000031887</td>\n",
       "      <td>1.0</td>\n",
       "      <td>1363824000</td>\n",
       "    </tr>\n",
       "    <tr>\n",
       "      <th>3</th>\n",
       "      <td>A1P0IHU93EF9ZK</td>\n",
       "      <td>0000031887</td>\n",
       "      <td>4.0</td>\n",
       "      <td>1390435200</td>\n",
       "    </tr>\n",
       "    <tr>\n",
       "      <th>4</th>\n",
       "      <td>A3Q6CTO56DJ8UZ</td>\n",
       "      <td>0000031887</td>\n",
       "      <td>4.0</td>\n",
       "      <td>1268697600</td>\n",
       "    </tr>\n",
       "  </tbody>\n",
       "</table>\n",
       "</div>"
      ],
      "text/plain": [
       "   A2XVJBSRI3SWDI  0000031887  5.0  1383523200\n",
       "0  A2G0LNLN79Q6HR  0000031887  4.0  1337990400\n",
       "1  A2R3K1KX09QBYP  0000031887  2.0  1361059200\n",
       "2   A19PBP93OF896  0000031887  1.0  1363824000\n",
       "3  A1P0IHU93EF9ZK  0000031887  4.0  1390435200\n",
       "4  A3Q6CTO56DJ8UZ  0000031887  4.0  1268697600"
      ]
     },
     "execution_count": 2,
     "metadata": {},
     "output_type": "execute_result"
    }
   ],
   "source": [
    "df = pd.read_csv (\"ratings_Clothing_Shoes_and_Jewelry.csv\")\n",
    "df.head()"
   ]
  },
  {
   "cell_type": "code",
   "execution_count": 3,
   "metadata": {},
   "outputs": [
    {
     "data": {
      "text/html": [
       "<div>\n",
       "<style scoped>\n",
       "    .dataframe tbody tr th:only-of-type {\n",
       "        vertical-align: middle;\n",
       "    }\n",
       "\n",
       "    .dataframe tbody tr th {\n",
       "        vertical-align: top;\n",
       "    }\n",
       "\n",
       "    .dataframe thead th {\n",
       "        text-align: right;\n",
       "    }\n",
       "</style>\n",
       "<table border=\"1\" class=\"dataframe\">\n",
       "  <thead>\n",
       "    <tr style=\"text-align: right;\">\n",
       "      <th></th>\n",
       "      <th>userid</th>\n",
       "      <th>productid</th>\n",
       "      <th>rating</th>\n",
       "      <th>timestamp</th>\n",
       "    </tr>\n",
       "  </thead>\n",
       "  <tbody>\n",
       "    <tr>\n",
       "      <th>0</th>\n",
       "      <td>A2G0LNLN79Q6HR</td>\n",
       "      <td>0000031887</td>\n",
       "      <td>4.0</td>\n",
       "      <td>1337990400</td>\n",
       "    </tr>\n",
       "    <tr>\n",
       "      <th>1</th>\n",
       "      <td>A2R3K1KX09QBYP</td>\n",
       "      <td>0000031887</td>\n",
       "      <td>2.0</td>\n",
       "      <td>1361059200</td>\n",
       "    </tr>\n",
       "    <tr>\n",
       "      <th>2</th>\n",
       "      <td>A19PBP93OF896</td>\n",
       "      <td>0000031887</td>\n",
       "      <td>1.0</td>\n",
       "      <td>1363824000</td>\n",
       "    </tr>\n",
       "    <tr>\n",
       "      <th>3</th>\n",
       "      <td>A1P0IHU93EF9ZK</td>\n",
       "      <td>0000031887</td>\n",
       "      <td>4.0</td>\n",
       "      <td>1390435200</td>\n",
       "    </tr>\n",
       "    <tr>\n",
       "      <th>4</th>\n",
       "      <td>A3Q6CTO56DJ8UZ</td>\n",
       "      <td>0000031887</td>\n",
       "      <td>4.0</td>\n",
       "      <td>1268697600</td>\n",
       "    </tr>\n",
       "  </tbody>\n",
       "</table>\n",
       "</div>"
      ],
      "text/plain": [
       "           userid   productid  rating   timestamp\n",
       "0  A2G0LNLN79Q6HR  0000031887     4.0  1337990400\n",
       "1  A2R3K1KX09QBYP  0000031887     2.0  1361059200\n",
       "2   A19PBP93OF896  0000031887     1.0  1363824000\n",
       "3  A1P0IHU93EF9ZK  0000031887     4.0  1390435200\n",
       "4  A3Q6CTO56DJ8UZ  0000031887     4.0  1268697600"
      ]
     },
     "execution_count": 3,
     "metadata": {},
     "output_type": "execute_result"
    }
   ],
   "source": [
    "df.columns = ['userid', 'productid', 'rating', 'timestamp']\n",
    "df.head()"
   ]
  },
  {
   "cell_type": "code",
   "execution_count": 4,
   "metadata": {},
   "outputs": [
    {
     "data": {
      "text/plain": [
       "(5748919, 4)"
      ]
     },
     "execution_count": 4,
     "metadata": {},
     "output_type": "execute_result"
    }
   ],
   "source": [
    "df.shape"
   ]
  },
  {
   "cell_type": "code",
   "execution_count": 5,
   "metadata": {},
   "outputs": [
    {
     "name": "stdout",
     "output_type": "stream",
     "text": [
      "<class 'pandas.core.frame.DataFrame'>\n",
      "RangeIndex: 5748919 entries, 0 to 5748918\n",
      "Data columns (total 4 columns):\n",
      " #   Column     Dtype  \n",
      "---  ------     -----  \n",
      " 0   userid     object \n",
      " 1   productid  object \n",
      " 2   rating     float64\n",
      " 3   timestamp  int64  \n",
      "dtypes: float64(1), int64(1), object(2)\n",
      "memory usage: 175.4+ MB\n"
     ]
    }
   ],
   "source": [
    "df.info()"
   ]
  },
  {
   "cell_type": "code",
   "execution_count": 6,
   "metadata": {},
   "outputs": [
    {
     "data": {
      "text/html": [
       "<div>\n",
       "<style scoped>\n",
       "    .dataframe tbody tr th:only-of-type {\n",
       "        vertical-align: middle;\n",
       "    }\n",
       "\n",
       "    .dataframe tbody tr th {\n",
       "        vertical-align: top;\n",
       "    }\n",
       "\n",
       "    .dataframe thead th {\n",
       "        text-align: right;\n",
       "    }\n",
       "</style>\n",
       "<table border=\"1\" class=\"dataframe\">\n",
       "  <thead>\n",
       "    <tr style=\"text-align: right;\">\n",
       "      <th></th>\n",
       "      <th>userid</th>\n",
       "      <th>productid</th>\n",
       "      <th>rating</th>\n",
       "    </tr>\n",
       "  </thead>\n",
       "  <tbody>\n",
       "    <tr>\n",
       "      <th>0</th>\n",
       "      <td>A2G0LNLN79Q6HR</td>\n",
       "      <td>0000031887</td>\n",
       "      <td>4.0</td>\n",
       "    </tr>\n",
       "    <tr>\n",
       "      <th>1</th>\n",
       "      <td>A2R3K1KX09QBYP</td>\n",
       "      <td>0000031887</td>\n",
       "      <td>2.0</td>\n",
       "    </tr>\n",
       "    <tr>\n",
       "      <th>2</th>\n",
       "      <td>A19PBP93OF896</td>\n",
       "      <td>0000031887</td>\n",
       "      <td>1.0</td>\n",
       "    </tr>\n",
       "    <tr>\n",
       "      <th>3</th>\n",
       "      <td>A1P0IHU93EF9ZK</td>\n",
       "      <td>0000031887</td>\n",
       "      <td>4.0</td>\n",
       "    </tr>\n",
       "    <tr>\n",
       "      <th>4</th>\n",
       "      <td>A3Q6CTO56DJ8UZ</td>\n",
       "      <td>0000031887</td>\n",
       "      <td>4.0</td>\n",
       "    </tr>\n",
       "  </tbody>\n",
       "</table>\n",
       "</div>"
      ],
      "text/plain": [
       "           userid   productid  rating\n",
       "0  A2G0LNLN79Q6HR  0000031887     4.0\n",
       "1  A2R3K1KX09QBYP  0000031887     2.0\n",
       "2   A19PBP93OF896  0000031887     1.0\n",
       "3  A1P0IHU93EF9ZK  0000031887     4.0\n",
       "4  A3Q6CTO56DJ8UZ  0000031887     4.0"
      ]
     },
     "execution_count": 6,
     "metadata": {},
     "output_type": "execute_result"
    }
   ],
   "source": [
    "df.drop(['timestamp'], axis=1, inplace = True)\n",
    "df.head()"
   ]
  },
  {
   "cell_type": "code",
   "execution_count": 7,
   "metadata": {},
   "outputs": [
    {
     "data": {
      "text/plain": [
       "userid       0\n",
       "productid    0\n",
       "rating       0\n",
       "dtype: int64"
      ]
     },
     "execution_count": 7,
     "metadata": {},
     "output_type": "execute_result"
    }
   ],
   "source": [
    "df.isna().sum()"
   ]
  },
  {
   "cell_type": "code",
   "execution_count": 8,
   "metadata": {},
   "outputs": [
    {
     "data": {
      "text/html": [
       "<div>\n",
       "<style scoped>\n",
       "    .dataframe tbody tr th:only-of-type {\n",
       "        vertical-align: middle;\n",
       "    }\n",
       "\n",
       "    .dataframe tbody tr th {\n",
       "        vertical-align: top;\n",
       "    }\n",
       "\n",
       "    .dataframe thead th {\n",
       "        text-align: right;\n",
       "    }\n",
       "</style>\n",
       "<table border=\"1\" class=\"dataframe\">\n",
       "  <thead>\n",
       "    <tr style=\"text-align: right;\">\n",
       "      <th></th>\n",
       "      <th>userid</th>\n",
       "      <th>productid</th>\n",
       "      <th>rating</th>\n",
       "    </tr>\n",
       "  </thead>\n",
       "  <tbody>\n",
       "  </tbody>\n",
       "</table>\n",
       "</div>"
      ],
      "text/plain": [
       "Empty DataFrame\n",
       "Columns: [userid, productid, rating]\n",
       "Index: []"
      ]
     },
     "execution_count": 8,
     "metadata": {},
     "output_type": "execute_result"
    }
   ],
   "source": [
    "rating_combination = ['userid', 'productid']\n",
    "df[df.duplicated(subset=rating_combination, keep=False)].sort_values(rating_combination).head()"
   ]
  },
  {
   "cell_type": "code",
   "execution_count": 9,
   "metadata": {},
   "outputs": [
    {
     "name": "stdout",
     "output_type": "stream",
     "text": [
      "3117268\n",
      "1136004\n"
     ]
    }
   ],
   "source": [
    "print(df['userid'].nunique())\n",
    "print(df['productid'].nunique())"
   ]
  },
  {
   "cell_type": "code",
   "execution_count": 10,
   "metadata": {},
   "outputs": [
    {
     "data": {
      "text/plain": [
       "count    5.748919e+06\n",
       "mean     4.144679e+00\n",
       "std      1.233104e+00\n",
       "min      1.000000e+00\n",
       "25%      4.000000e+00\n",
       "50%      5.000000e+00\n",
       "75%      5.000000e+00\n",
       "max      5.000000e+00\n",
       "Name: rating, dtype: float64"
      ]
     },
     "execution_count": 10,
     "metadata": {},
     "output_type": "execute_result"
    }
   ],
   "source": [
    "df['rating'].describe()"
   ]
  },
  {
   "cell_type": "code",
   "execution_count": 11,
   "metadata": {},
   "outputs": [
    {
     "data": {
      "image/png": "[encoded data removed]",
      "text/plain": [
       "<Figure size 1200x600 with 1 Axes>"
      ]
     },
     "metadata": {},
     "output_type": "display_data"
    }
   ],
   "source": [
    "plt.figure(figsize = (12,6))\n",
    "df['rating'].value_counts(1).plot(kind='bar')\n",
    "plt.show()"
   ]
  },
  {
   "cell_type": "code",
   "execution_count": 12,
   "metadata": {},
   "outputs": [
    {
     "data": {
      "text/plain": [
       "userid\n",
       "A3W4D8XOGLWUN5    349\n",
       "A5QQRB2QOY96U     289\n",
       "A2KBV88FL48CFS    278\n",
       "A1Z4LX3Q1YMF84    274\n",
       "A1RRMZKOMZ2M7J    259\n",
       "A2J4XMWKR8PPD0    256\n",
       "A2EA0JE6LV4BXH    249\n",
       "A2GA55P7WGHJCP    240\n",
       "A1XQ0F01CF84Y3    225\n",
       "A29BPMJI0ZYH4H    197\n",
       "dtype: int64"
      ]
     },
     "execution_count": 12,
     "metadata": {},
     "output_type": "execute_result"
    }
   ],
   "source": [
    "#users with most number of rating\n",
    "most_rated = df.groupby('userid').size().sort_values(ascending = False)[:10]\n",
    "most_rated"
   ]
  },
  {
   "cell_type": "code",
   "execution_count": 13,
   "metadata": {},
   "outputs": [],
   "source": [
    "#only keeping the users who have given 40 or more ratings\n",
    "counts = df['userid'].value_counts()\n",
    "counts\n",
    "df_final = df[df['userid'].isin(counts[counts >= 40].index)]"
   ]
  },
  {
   "cell_type": "code",
   "execution_count": 14,
   "metadata": {},
   "outputs": [
    {
     "name": "stdout",
     "output_type": "stream",
     "text": [
      "(76302, 3)\n",
      "1292\n",
      "65315\n"
     ]
    }
   ],
   "source": [
    "print(df_final.shape)\n",
    "print(df_final['userid'].nunique())\n",
    "print(df_final['productid'].nunique())"
   ]
  },
  {
   "cell_type": "code",
   "execution_count": 15,
   "metadata": {},
   "outputs": [
    {
     "data": {
      "text/html": [
       "<div>\n",
       "<style scoped>\n",
       "    .dataframe tbody tr th:only-of-type {\n",
       "        vertical-align: middle;\n",
       "    }\n",
       "\n",
       "    .dataframe tbody tr th {\n",
       "        vertical-align: top;\n",
       "    }\n",
       "\n",
       "    .dataframe thead th {\n",
       "        text-align: right;\n",
       "    }\n",
       "</style>\n",
       "<table border=\"1\" class=\"dataframe\">\n",
       "  <thead>\n",
       "    <tr style=\"text-align: right;\">\n",
       "      <th></th>\n",
       "      <th>userid</th>\n",
       "      <th>productid</th>\n",
       "      <th>rating</th>\n",
       "    </tr>\n",
       "  </thead>\n",
       "  <tbody>\n",
       "    <tr>\n",
       "      <th>43</th>\n",
       "      <td>A1RLQXYNCMWRWN</td>\n",
       "      <td>0000031887</td>\n",
       "      <td>5.0</td>\n",
       "    </tr>\n",
       "    <tr>\n",
       "      <th>152</th>\n",
       "      <td>AJ6B83I4YJHYW</td>\n",
       "      <td>0000031887</td>\n",
       "      <td>5.0</td>\n",
       "    </tr>\n",
       "    <tr>\n",
       "      <th>444</th>\n",
       "      <td>A1F7YU6O5RU432</td>\n",
       "      <td>1608299953</td>\n",
       "      <td>5.0</td>\n",
       "    </tr>\n",
       "    <tr>\n",
       "      <th>466</th>\n",
       "      <td>A1R377IPZOKLMM</td>\n",
       "      <td>1608299953</td>\n",
       "      <td>5.0</td>\n",
       "    </tr>\n",
       "    <tr>\n",
       "      <th>600</th>\n",
       "      <td>AN81JUYW2SL24</td>\n",
       "      <td>1617160377</td>\n",
       "      <td>4.0</td>\n",
       "    </tr>\n",
       "    <tr>\n",
       "      <th>...</th>\n",
       "      <td>...</td>\n",
       "      <td>...</td>\n",
       "      <td>...</td>\n",
       "    </tr>\n",
       "    <tr>\n",
       "      <th>5748886</th>\n",
       "      <td>A3PN3LJGOHDDYB</td>\n",
       "      <td>B00LSTNH7U</td>\n",
       "      <td>5.0</td>\n",
       "    </tr>\n",
       "    <tr>\n",
       "      <th>5748887</th>\n",
       "      <td>A3PN3LJGOHDDYB</td>\n",
       "      <td>B00LSTZKZ2</td>\n",
       "      <td>5.0</td>\n",
       "    </tr>\n",
       "    <tr>\n",
       "      <th>5748900</th>\n",
       "      <td>A3PN3LJGOHDDYB</td>\n",
       "      <td>B00LT05HAS</td>\n",
       "      <td>5.0</td>\n",
       "    </tr>\n",
       "    <tr>\n",
       "      <th>5748902</th>\n",
       "      <td>A1H04CRIJ2ASD6</td>\n",
       "      <td>B00LU0ZXJM</td>\n",
       "      <td>5.0</td>\n",
       "    </tr>\n",
       "    <tr>\n",
       "      <th>5748903</th>\n",
       "      <td>AG3ZMV3ZD86U9</td>\n",
       "      <td>B00LU0ZXJM</td>\n",
       "      <td>5.0</td>\n",
       "    </tr>\n",
       "  </tbody>\n",
       "</table>\n",
       "<p>76302 rows × 3 columns</p>\n",
       "</div>"
      ],
      "text/plain": [
       "                 userid   productid  rating\n",
       "43       A1RLQXYNCMWRWN  0000031887     5.0\n",
       "152       AJ6B83I4YJHYW  0000031887     5.0\n",
       "444      A1F7YU6O5RU432  1608299953     5.0\n",
       "466      A1R377IPZOKLMM  1608299953     5.0\n",
       "600       AN81JUYW2SL24  1617160377     4.0\n",
       "...                 ...         ...     ...\n",
       "5748886  A3PN3LJGOHDDYB  B00LSTNH7U     5.0\n",
       "5748887  A3PN3LJGOHDDYB  B00LSTZKZ2     5.0\n",
       "5748900  A3PN3LJGOHDDYB  B00LT05HAS     5.0\n",
       "5748902  A1H04CRIJ2ASD6  B00LU0ZXJM     5.0\n",
       "5748903   AG3ZMV3ZD86U9  B00LU0ZXJM     5.0\n",
       "\n",
       "[76302 rows x 3 columns]"
      ]
     },
     "execution_count": 15,
     "metadata": {},
     "output_type": "execute_result"
    }
   ],
   "source": [
    "df_final"
   ]
  },
  {
   "cell_type": "code",
   "execution_count": 16,
   "metadata": {},
   "outputs": [
    {
     "name": "stdout",
     "output_type": "stream",
     "text": [
      "Shape of final_ratings_matrix:  (65315, 1292)\n"
     ]
    }
   ],
   "source": [
    "final_ratings_matrix_product = df_final.pivot(index = 'productid', columns ='userid', values = 'rating').fillna(0)\n",
    "print('Shape of final_ratings_matrix: ', final_ratings_matrix_product.shape)"
   ]
  },
  {
   "cell_type": "code",
   "execution_count": 17,
   "metadata": {},
   "outputs": [
    {
     "name": "stdout",
     "output_type": "stream",
     "text": [
      "Shape of final_ratings_matrix:  (1292, 65315)\n"
     ]
    }
   ],
   "source": [
    "final_ratings_matrix = df_final.pivot(index = 'userid', columns ='productid', values = 'rating').fillna(0)\n",
    "print('Shape of final_ratings_matrix: ', final_ratings_matrix.shape)"
   ]
  },
  {
   "cell_type": "code",
   "execution_count": 18,
   "metadata": {},
   "outputs": [
    {
     "name": "stdout",
     "output_type": "stream",
     "text": [
      "given_num_of_ratings =  76302\n"
     ]
    }
   ],
   "source": [
    "given_num_of_ratings = np.count_nonzero(final_ratings_matrix)\n",
    "print('given_num_of_ratings = ', given_num_of_ratings)"
   ]
  },
  {
   "cell_type": "code",
   "execution_count": 19,
   "metadata": {},
   "outputs": [
    {
     "name": "stdout",
     "output_type": "stream",
     "text": [
      "possible_num_of_ratings =  84386980\n"
     ]
    }
   ],
   "source": [
    "possible_num_of_ratings = final_ratings_matrix.shape[0] * final_ratings_matrix.shape[1]\n",
    "print('possible_num_of_ratings = ', possible_num_of_ratings)"
   ]
  },
  {
   "cell_type": "code",
   "execution_count": 20,
   "metadata": {},
   "outputs": [
    {
     "data": {
      "text/html": [
       "<div>\n",
       "<style scoped>\n",
       "    .dataframe tbody tr th:only-of-type {\n",
       "        vertical-align: middle;\n",
       "    }\n",
       "\n",
       "    .dataframe tbody tr th {\n",
       "        vertical-align: top;\n",
       "    }\n",
       "\n",
       "    .dataframe thead th {\n",
       "        text-align: right;\n",
       "    }\n",
       "</style>\n",
       "<table border=\"1\" class=\"dataframe\">\n",
       "  <thead>\n",
       "    <tr style=\"text-align: right;\">\n",
       "      <th>productid</th>\n",
       "      <th>0000031887</th>\n",
       "      <th>1608299953</th>\n",
       "      <th>1617160377</th>\n",
       "      <th>500000003X</th>\n",
       "      <th>8742245117</th>\n",
       "      <th>B00001T38R</th>\n",
       "      <th>B00001T38Y</th>\n",
       "      <th>B00001TQ34</th>\n",
       "      <th>B00001W0J3</th>\n",
       "      <th>B000034DKV</th>\n",
       "      <th>...</th>\n",
       "      <th>B00LK09U3M</th>\n",
       "      <th>B00LK0IQGY</th>\n",
       "      <th>B00LLHU588</th>\n",
       "      <th>B00LMH3SHW</th>\n",
       "      <th>B00LMQCBVC</th>\n",
       "      <th>B00LOP5Q6I</th>\n",
       "      <th>B00LSTNH7U</th>\n",
       "      <th>B00LSTZKZ2</th>\n",
       "      <th>B00LT05HAS</th>\n",
       "      <th>B00LU0ZXJM</th>\n",
       "    </tr>\n",
       "    <tr>\n",
       "      <th>userid</th>\n",
       "      <th></th>\n",
       "      <th></th>\n",
       "      <th></th>\n",
       "      <th></th>\n",
       "      <th></th>\n",
       "      <th></th>\n",
       "      <th></th>\n",
       "      <th></th>\n",
       "      <th></th>\n",
       "      <th></th>\n",
       "      <th></th>\n",
       "      <th></th>\n",
       "      <th></th>\n",
       "      <th></th>\n",
       "      <th></th>\n",
       "      <th></th>\n",
       "      <th></th>\n",
       "      <th></th>\n",
       "      <th></th>\n",
       "      <th></th>\n",
       "      <th></th>\n",
       "    </tr>\n",
       "  </thead>\n",
       "  <tbody>\n",
       "    <tr>\n",
       "      <th>A104SG9QZ92UAH</th>\n",
       "      <td>0.0</td>\n",
       "      <td>0.0</td>\n",
       "      <td>0.0</td>\n",
       "      <td>0.0</td>\n",
       "      <td>0.0</td>\n",
       "      <td>0.0</td>\n",
       "      <td>0.0</td>\n",
       "      <td>0.0</td>\n",
       "      <td>0.0</td>\n",
       "      <td>0.0</td>\n",
       "      <td>...</td>\n",
       "      <td>0.0</td>\n",
       "      <td>0.0</td>\n",
       "      <td>0.0</td>\n",
       "      <td>0.0</td>\n",
       "      <td>0.0</td>\n",
       "      <td>0.0</td>\n",
       "      <td>0.0</td>\n",
       "      <td>0.0</td>\n",
       "      <td>0.0</td>\n",
       "      <td>0.0</td>\n",
       "    </tr>\n",
       "    <tr>\n",
       "      <th>A1084V41BP7RDH</th>\n",
       "      <td>0.0</td>\n",
       "      <td>0.0</td>\n",
       "      <td>0.0</td>\n",
       "      <td>0.0</td>\n",
       "      <td>0.0</td>\n",
       "      <td>0.0</td>\n",
       "      <td>0.0</td>\n",
       "      <td>0.0</td>\n",
       "      <td>0.0</td>\n",
       "      <td>0.0</td>\n",
       "      <td>...</td>\n",
       "      <td>0.0</td>\n",
       "      <td>0.0</td>\n",
       "      <td>0.0</td>\n",
       "      <td>0.0</td>\n",
       "      <td>0.0</td>\n",
       "      <td>0.0</td>\n",
       "      <td>0.0</td>\n",
       "      <td>0.0</td>\n",
       "      <td>0.0</td>\n",
       "      <td>0.0</td>\n",
       "    </tr>\n",
       "    <tr>\n",
       "      <th>A10OZSMV7HOTCF</th>\n",
       "      <td>0.0</td>\n",
       "      <td>0.0</td>\n",
       "      <td>0.0</td>\n",
       "      <td>0.0</td>\n",
       "      <td>0.0</td>\n",
       "      <td>0.0</td>\n",
       "      <td>0.0</td>\n",
       "      <td>0.0</td>\n",
       "      <td>0.0</td>\n",
       "      <td>0.0</td>\n",
       "      <td>...</td>\n",
       "      <td>0.0</td>\n",
       "      <td>0.0</td>\n",
       "      <td>0.0</td>\n",
       "      <td>0.0</td>\n",
       "      <td>0.0</td>\n",
       "      <td>0.0</td>\n",
       "      <td>0.0</td>\n",
       "      <td>0.0</td>\n",
       "      <td>0.0</td>\n",
       "      <td>0.0</td>\n",
       "    </tr>\n",
       "    <tr>\n",
       "      <th>A10QCZUQ53TNRP</th>\n",
       "      <td>0.0</td>\n",
       "      <td>0.0</td>\n",
       "      <td>0.0</td>\n",
       "      <td>0.0</td>\n",
       "      <td>0.0</td>\n",
       "      <td>0.0</td>\n",
       "      <td>0.0</td>\n",
       "      <td>0.0</td>\n",
       "      <td>0.0</td>\n",
       "      <td>0.0</td>\n",
       "      <td>...</td>\n",
       "      <td>0.0</td>\n",
       "      <td>0.0</td>\n",
       "      <td>0.0</td>\n",
       "      <td>0.0</td>\n",
       "      <td>0.0</td>\n",
       "      <td>0.0</td>\n",
       "      <td>0.0</td>\n",
       "      <td>0.0</td>\n",
       "      <td>0.0</td>\n",
       "      <td>0.0</td>\n",
       "    </tr>\n",
       "    <tr>\n",
       "      <th>A10VVD2S6W6ICO</th>\n",
       "      <td>0.0</td>\n",
       "      <td>0.0</td>\n",
       "      <td>0.0</td>\n",
       "      <td>0.0</td>\n",
       "      <td>0.0</td>\n",
       "      <td>0.0</td>\n",
       "      <td>0.0</td>\n",
       "      <td>0.0</td>\n",
       "      <td>0.0</td>\n",
       "      <td>0.0</td>\n",
       "      <td>...</td>\n",
       "      <td>0.0</td>\n",
       "      <td>0.0</td>\n",
       "      <td>0.0</td>\n",
       "      <td>0.0</td>\n",
       "      <td>0.0</td>\n",
       "      <td>0.0</td>\n",
       "      <td>0.0</td>\n",
       "      <td>0.0</td>\n",
       "      <td>0.0</td>\n",
       "      <td>0.0</td>\n",
       "    </tr>\n",
       "    <tr>\n",
       "      <th>...</th>\n",
       "      <td>...</td>\n",
       "      <td>...</td>\n",
       "      <td>...</td>\n",
       "      <td>...</td>\n",
       "      <td>...</td>\n",
       "      <td>...</td>\n",
       "      <td>...</td>\n",
       "      <td>...</td>\n",
       "      <td>...</td>\n",
       "      <td>...</td>\n",
       "      <td>...</td>\n",
       "      <td>...</td>\n",
       "      <td>...</td>\n",
       "      <td>...</td>\n",
       "      <td>...</td>\n",
       "      <td>...</td>\n",
       "      <td>...</td>\n",
       "      <td>...</td>\n",
       "      <td>...</td>\n",
       "      <td>...</td>\n",
       "      <td>...</td>\n",
       "    </tr>\n",
       "    <tr>\n",
       "      <th>AZ9VR9ESKVJEV</th>\n",
       "      <td>0.0</td>\n",
       "      <td>0.0</td>\n",
       "      <td>0.0</td>\n",
       "      <td>0.0</td>\n",
       "      <td>0.0</td>\n",
       "      <td>0.0</td>\n",
       "      <td>0.0</td>\n",
       "      <td>0.0</td>\n",
       "      <td>0.0</td>\n",
       "      <td>0.0</td>\n",
       "      <td>...</td>\n",
       "      <td>0.0</td>\n",
       "      <td>0.0</td>\n",
       "      <td>0.0</td>\n",
       "      <td>0.0</td>\n",
       "      <td>0.0</td>\n",
       "      <td>0.0</td>\n",
       "      <td>0.0</td>\n",
       "      <td>0.0</td>\n",
       "      <td>0.0</td>\n",
       "      <td>0.0</td>\n",
       "    </tr>\n",
       "    <tr>\n",
       "      <th>AZB0AM0LMJNDD</th>\n",
       "      <td>0.0</td>\n",
       "      <td>0.0</td>\n",
       "      <td>0.0</td>\n",
       "      <td>0.0</td>\n",
       "      <td>0.0</td>\n",
       "      <td>0.0</td>\n",
       "      <td>0.0</td>\n",
       "      <td>0.0</td>\n",
       "      <td>0.0</td>\n",
       "      <td>0.0</td>\n",
       "      <td>...</td>\n",
       "      <td>0.0</td>\n",
       "      <td>0.0</td>\n",
       "      <td>0.0</td>\n",
       "      <td>0.0</td>\n",
       "      <td>0.0</td>\n",
       "      <td>0.0</td>\n",
       "      <td>0.0</td>\n",
       "      <td>0.0</td>\n",
       "      <td>0.0</td>\n",
       "      <td>0.0</td>\n",
       "    </tr>\n",
       "    <tr>\n",
       "      <th>AZC097NSZCUQ8</th>\n",
       "      <td>0.0</td>\n",
       "      <td>0.0</td>\n",
       "      <td>0.0</td>\n",
       "      <td>0.0</td>\n",
       "      <td>0.0</td>\n",
       "      <td>0.0</td>\n",
       "      <td>0.0</td>\n",
       "      <td>0.0</td>\n",
       "      <td>0.0</td>\n",
       "      <td>0.0</td>\n",
       "      <td>...</td>\n",
       "      <td>0.0</td>\n",
       "      <td>0.0</td>\n",
       "      <td>0.0</td>\n",
       "      <td>0.0</td>\n",
       "      <td>0.0</td>\n",
       "      <td>0.0</td>\n",
       "      <td>0.0</td>\n",
       "      <td>0.0</td>\n",
       "      <td>0.0</td>\n",
       "      <td>0.0</td>\n",
       "    </tr>\n",
       "    <tr>\n",
       "      <th>AZCA7JN2M2WHZ</th>\n",
       "      <td>0.0</td>\n",
       "      <td>0.0</td>\n",
       "      <td>0.0</td>\n",
       "      <td>0.0</td>\n",
       "      <td>0.0</td>\n",
       "      <td>0.0</td>\n",
       "      <td>0.0</td>\n",
       "      <td>0.0</td>\n",
       "      <td>0.0</td>\n",
       "      <td>0.0</td>\n",
       "      <td>...</td>\n",
       "      <td>0.0</td>\n",
       "      <td>0.0</td>\n",
       "      <td>0.0</td>\n",
       "      <td>0.0</td>\n",
       "      <td>0.0</td>\n",
       "      <td>0.0</td>\n",
       "      <td>0.0</td>\n",
       "      <td>0.0</td>\n",
       "      <td>0.0</td>\n",
       "      <td>0.0</td>\n",
       "    </tr>\n",
       "    <tr>\n",
       "      <th>AZFWSRXG2A9LD</th>\n",
       "      <td>0.0</td>\n",
       "      <td>0.0</td>\n",
       "      <td>0.0</td>\n",
       "      <td>0.0</td>\n",
       "      <td>3.0</td>\n",
       "      <td>0.0</td>\n",
       "      <td>0.0</td>\n",
       "      <td>0.0</td>\n",
       "      <td>0.0</td>\n",
       "      <td>0.0</td>\n",
       "      <td>...</td>\n",
       "      <td>0.0</td>\n",
       "      <td>0.0</td>\n",
       "      <td>0.0</td>\n",
       "      <td>0.0</td>\n",
       "      <td>0.0</td>\n",
       "      <td>0.0</td>\n",
       "      <td>0.0</td>\n",
       "      <td>0.0</td>\n",
       "      <td>0.0</td>\n",
       "      <td>0.0</td>\n",
       "    </tr>\n",
       "  </tbody>\n",
       "</table>\n",
       "<p>1292 rows × 65315 columns</p>\n",
       "</div>"
      ],
      "text/plain": [
       "productid       0000031887  1608299953  1617160377  500000003X  8742245117  \\\n",
       "userid                                                                       \n",
       "A104SG9QZ92UAH         0.0         0.0         0.0         0.0         0.0   \n",
       "A1084V41BP7RDH         0.0         0.0         0.0         0.0         0.0   \n",
       "A10OZSMV7HOTCF         0.0         0.0         0.0         0.0         0.0   \n",
       "A10QCZUQ53TNRP         0.0         0.0         0.0         0.0         0.0   \n",
       "A10VVD2S6W6ICO         0.0         0.0         0.0         0.0         0.0   \n",
       "...                    ...         ...         ...         ...         ...   \n",
       "AZ9VR9ESKVJEV          0.0         0.0         0.0         0.0         0.0   \n",
       "AZB0AM0LMJNDD          0.0         0.0         0.0         0.0         0.0   \n",
       "AZC097NSZCUQ8          0.0         0.0         0.0         0.0         0.0   \n",
       "AZCA7JN2M2WHZ          0.0         0.0         0.0         0.0         0.0   \n",
       "AZFWSRXG2A9LD          0.0         0.0         0.0         0.0         3.0   \n",
       "\n",
       "productid       B00001T38R  B00001T38Y  B00001TQ34  B00001W0J3  B000034DKV  \\\n",
       "userid                                                                       \n",
       "A104SG9QZ92UAH         0.0         0.0         0.0         0.0         0.0   \n",
       "A1084V41BP7RDH         0.0         0.0         0.0         0.0         0.0   \n",
       "A10OZSMV7HOTCF         0.0         0.0         0.0         0.0         0.0   \n",
       "A10QCZUQ53TNRP         0.0         0.0         0.0         0.0         0.0   \n",
       "A10VVD2S6W6ICO         0.0         0.0         0.0         0.0         0.0   \n",
       "...                    ...         ...         ...         ...         ...   \n",
       "AZ9VR9ESKVJEV          0.0         0.0         0.0         0.0         0.0   \n",
       "AZB0AM0LMJNDD          0.0         0.0         0.0         0.0         0.0   \n",
       "AZC097NSZCUQ8          0.0         0.0         0.0         0.0         0.0   \n",
       "AZCA7JN2M2WHZ          0.0         0.0         0.0         0.0         0.0   \n",
       "AZFWSRXG2A9LD          0.0         0.0         0.0         0.0         0.0   \n",
       "\n",
       "productid       ...  B00LK09U3M  B00LK0IQGY  B00LLHU588  B00LMH3SHW  \\\n",
       "userid          ...                                                   \n",
       "A104SG9QZ92UAH  ...         0.0         0.0         0.0         0.0   \n",
       "A1084V41BP7RDH  ...         0.0         0.0         0.0         0.0   \n",
       "A10OZSMV7HOTCF  ...         0.0         0.0         0.0         0.0   \n",
       "A10QCZUQ53TNRP  ...         0.0         0.0         0.0         0.0   \n",
       "A10VVD2S6W6ICO  ...         0.0         0.0         0.0         0.0   \n",
       "...             ...         ...         ...         ...         ...   \n",
       "AZ9VR9ESKVJEV   ...         0.0         0.0         0.0         0.0   \n",
       "AZB0AM0LMJNDD   ...         0.0         0.0         0.0         0.0   \n",
       "AZC097NSZCUQ8   ...         0.0         0.0         0.0         0.0   \n",
       "AZCA7JN2M2WHZ   ...         0.0         0.0         0.0         0.0   \n",
       "AZFWSRXG2A9LD   ...         0.0         0.0         0.0         0.0   \n",
       "\n",
       "productid       B00LMQCBVC  B00LOP5Q6I  B00LSTNH7U  B00LSTZKZ2  B00LT05HAS  \\\n",
       "userid                                                                       \n",
       "A104SG9QZ92UAH         0.0         0.0         0.0         0.0         0.0   \n",
       "A1084V41BP7RDH         0.0         0.0         0.0         0.0         0.0   \n",
       "A10OZSMV7HOTCF         0.0         0.0         0.0         0.0         0.0   \n",
       "A10QCZUQ53TNRP         0.0         0.0         0.0         0.0         0.0   \n",
       "A10VVD2S6W6ICO         0.0         0.0         0.0         0.0         0.0   \n",
       "...                    ...         ...         ...         ...         ...   \n",
       "AZ9VR9ESKVJEV          0.0         0.0         0.0         0.0         0.0   \n",
       "AZB0AM0LMJNDD          0.0         0.0         0.0         0.0         0.0   \n",
       "AZC097NSZCUQ8          0.0         0.0         0.0         0.0         0.0   \n",
       "AZCA7JN2M2WHZ          0.0         0.0         0.0         0.0         0.0   \n",
       "AZFWSRXG2A9LD          0.0         0.0         0.0         0.0         0.0   \n",
       "\n",
       "productid       B00LU0ZXJM  \n",
       "userid                      \n",
       "A104SG9QZ92UAH         0.0  \n",
       "A1084V41BP7RDH         0.0  \n",
       "A10OZSMV7HOTCF         0.0  \n",
       "A10QCZUQ53TNRP         0.0  \n",
       "A10VVD2S6W6ICO         0.0  \n",
       "...                    ...  \n",
       "AZ9VR9ESKVJEV          0.0  \n",
       "AZB0AM0LMJNDD          0.0  \n",
       "AZC097NSZCUQ8          0.0  \n",
       "AZCA7JN2M2WHZ          0.0  \n",
       "AZFWSRXG2A9LD          0.0  \n",
       "\n",
       "[1292 rows x 65315 columns]"
      ]
     },
     "execution_count": 20,
     "metadata": {},
     "output_type": "execute_result"
    }
   ],
   "source": [
    "final_ratings_matrix"
   ]
  },
  {
   "cell_type": "code",
   "execution_count": 21,
   "metadata": {},
   "outputs": [
    {
     "data": {
      "text/html": [
       "<div>\n",
       "<style scoped>\n",
       "    .dataframe tbody tr th:only-of-type {\n",
       "        vertical-align: middle;\n",
       "    }\n",
       "\n",
       "    .dataframe tbody tr th {\n",
       "        vertical-align: top;\n",
       "    }\n",
       "\n",
       "    .dataframe thead th {\n",
       "        text-align: right;\n",
       "    }\n",
       "</style>\n",
       "<table border=\"1\" class=\"dataframe\">\n",
       "  <thead>\n",
       "    <tr style=\"text-align: right;\">\n",
       "      <th>productid</th>\n",
       "      <th>0000031887</th>\n",
       "      <th>1608299953</th>\n",
       "      <th>1617160377</th>\n",
       "      <th>500000003X</th>\n",
       "      <th>8742245117</th>\n",
       "      <th>B00001T38R</th>\n",
       "      <th>B00001T38Y</th>\n",
       "      <th>B00001TQ34</th>\n",
       "      <th>B00001W0J3</th>\n",
       "      <th>B000034DKV</th>\n",
       "      <th>...</th>\n",
       "      <th>B00LK09U3M</th>\n",
       "      <th>B00LK0IQGY</th>\n",
       "      <th>B00LLHU588</th>\n",
       "      <th>B00LMH3SHW</th>\n",
       "      <th>B00LMQCBVC</th>\n",
       "      <th>B00LOP5Q6I</th>\n",
       "      <th>B00LSTNH7U</th>\n",
       "      <th>B00LSTZKZ2</th>\n",
       "      <th>B00LT05HAS</th>\n",
       "      <th>B00LU0ZXJM</th>\n",
       "    </tr>\n",
       "    <tr>\n",
       "      <th>user_index</th>\n",
       "      <th></th>\n",
       "      <th></th>\n",
       "      <th></th>\n",
       "      <th></th>\n",
       "      <th></th>\n",
       "      <th></th>\n",
       "      <th></th>\n",
       "      <th></th>\n",
       "      <th></th>\n",
       "      <th></th>\n",
       "      <th></th>\n",
       "      <th></th>\n",
       "      <th></th>\n",
       "      <th></th>\n",
       "      <th></th>\n",
       "      <th></th>\n",
       "      <th></th>\n",
       "      <th></th>\n",
       "      <th></th>\n",
       "      <th></th>\n",
       "      <th></th>\n",
       "    </tr>\n",
       "  </thead>\n",
       "  <tbody>\n",
       "    <tr>\n",
       "      <th>0</th>\n",
       "      <td>0.0</td>\n",
       "      <td>0.0</td>\n",
       "      <td>0.0</td>\n",
       "      <td>0.0</td>\n",
       "      <td>0.0</td>\n",
       "      <td>0.0</td>\n",
       "      <td>0.0</td>\n",
       "      <td>0.0</td>\n",
       "      <td>0.0</td>\n",
       "      <td>0.0</td>\n",
       "      <td>...</td>\n",
       "      <td>0.0</td>\n",
       "      <td>0.0</td>\n",
       "      <td>0.0</td>\n",
       "      <td>0.0</td>\n",
       "      <td>0.0</td>\n",
       "      <td>0.0</td>\n",
       "      <td>0.0</td>\n",
       "      <td>0.0</td>\n",
       "      <td>0.0</td>\n",
       "      <td>0.0</td>\n",
       "    </tr>\n",
       "    <tr>\n",
       "      <th>1</th>\n",
       "      <td>0.0</td>\n",
       "      <td>0.0</td>\n",
       "      <td>0.0</td>\n",
       "      <td>0.0</td>\n",
       "      <td>0.0</td>\n",
       "      <td>0.0</td>\n",
       "      <td>0.0</td>\n",
       "      <td>0.0</td>\n",
       "      <td>0.0</td>\n",
       "      <td>0.0</td>\n",
       "      <td>...</td>\n",
       "      <td>0.0</td>\n",
       "      <td>0.0</td>\n",
       "      <td>0.0</td>\n",
       "      <td>0.0</td>\n",
       "      <td>0.0</td>\n",
       "      <td>0.0</td>\n",
       "      <td>0.0</td>\n",
       "      <td>0.0</td>\n",
       "      <td>0.0</td>\n",
       "      <td>0.0</td>\n",
       "    </tr>\n",
       "    <tr>\n",
       "      <th>2</th>\n",
       "      <td>0.0</td>\n",
       "      <td>0.0</td>\n",
       "      <td>0.0</td>\n",
       "      <td>0.0</td>\n",
       "      <td>0.0</td>\n",
       "      <td>0.0</td>\n",
       "      <td>0.0</td>\n",
       "      <td>0.0</td>\n",
       "      <td>0.0</td>\n",
       "      <td>0.0</td>\n",
       "      <td>...</td>\n",
       "      <td>0.0</td>\n",
       "      <td>0.0</td>\n",
       "      <td>0.0</td>\n",
       "      <td>0.0</td>\n",
       "      <td>0.0</td>\n",
       "      <td>0.0</td>\n",
       "      <td>0.0</td>\n",
       "      <td>0.0</td>\n",
       "      <td>0.0</td>\n",
       "      <td>0.0</td>\n",
       "    </tr>\n",
       "    <tr>\n",
       "      <th>3</th>\n",
       "      <td>0.0</td>\n",
       "      <td>0.0</td>\n",
       "      <td>0.0</td>\n",
       "      <td>0.0</td>\n",
       "      <td>0.0</td>\n",
       "      <td>0.0</td>\n",
       "      <td>0.0</td>\n",
       "      <td>0.0</td>\n",
       "      <td>0.0</td>\n",
       "      <td>0.0</td>\n",
       "      <td>...</td>\n",
       "      <td>0.0</td>\n",
       "      <td>0.0</td>\n",
       "      <td>0.0</td>\n",
       "      <td>0.0</td>\n",
       "      <td>0.0</td>\n",
       "      <td>0.0</td>\n",
       "      <td>0.0</td>\n",
       "      <td>0.0</td>\n",
       "      <td>0.0</td>\n",
       "      <td>0.0</td>\n",
       "    </tr>\n",
       "    <tr>\n",
       "      <th>4</th>\n",
       "      <td>0.0</td>\n",
       "      <td>0.0</td>\n",
       "      <td>0.0</td>\n",
       "      <td>0.0</td>\n",
       "      <td>0.0</td>\n",
       "      <td>0.0</td>\n",
       "      <td>0.0</td>\n",
       "      <td>0.0</td>\n",
       "      <td>0.0</td>\n",
       "      <td>0.0</td>\n",
       "      <td>...</td>\n",
       "      <td>0.0</td>\n",
       "      <td>0.0</td>\n",
       "      <td>0.0</td>\n",
       "      <td>0.0</td>\n",
       "      <td>0.0</td>\n",
       "      <td>0.0</td>\n",
       "      <td>0.0</td>\n",
       "      <td>0.0</td>\n",
       "      <td>0.0</td>\n",
       "      <td>0.0</td>\n",
       "    </tr>\n",
       "  </tbody>\n",
       "</table>\n",
       "<p>5 rows × 65315 columns</p>\n",
       "</div>"
      ],
      "text/plain": [
       "productid   0000031887  1608299953  1617160377  500000003X  8742245117  \\\n",
       "user_index                                                               \n",
       "0                  0.0         0.0         0.0         0.0         0.0   \n",
       "1                  0.0         0.0         0.0         0.0         0.0   \n",
       "2                  0.0         0.0         0.0         0.0         0.0   \n",
       "3                  0.0         0.0         0.0         0.0         0.0   \n",
       "4                  0.0         0.0         0.0         0.0         0.0   \n",
       "\n",
       "productid   B00001T38R  B00001T38Y  B00001TQ34  B00001W0J3  B000034DKV  ...  \\\n",
       "user_index                                                              ...   \n",
       "0                  0.0         0.0         0.0         0.0         0.0  ...   \n",
       "1                  0.0         0.0         0.0         0.0         0.0  ...   \n",
       "2                  0.0         0.0         0.0         0.0         0.0  ...   \n",
       "3                  0.0         0.0         0.0         0.0         0.0  ...   \n",
       "4                  0.0         0.0         0.0         0.0         0.0  ...   \n",
       "\n",
       "productid   B00LK09U3M  B00LK0IQGY  B00LLHU588  B00LMH3SHW  B00LMQCBVC  \\\n",
       "user_index                                                               \n",
       "0                  0.0         0.0         0.0         0.0         0.0   \n",
       "1                  0.0         0.0         0.0         0.0         0.0   \n",
       "2                  0.0         0.0         0.0         0.0         0.0   \n",
       "3                  0.0         0.0         0.0         0.0         0.0   \n",
       "4                  0.0         0.0         0.0         0.0         0.0   \n",
       "\n",
       "productid   B00LOP5Q6I  B00LSTNH7U  B00LSTZKZ2  B00LT05HAS  B00LU0ZXJM  \n",
       "user_index                                                              \n",
       "0                  0.0         0.0         0.0         0.0         0.0  \n",
       "1                  0.0         0.0         0.0         0.0         0.0  \n",
       "2                  0.0         0.0         0.0         0.0         0.0  \n",
       "3                  0.0         0.0         0.0         0.0         0.0  \n",
       "4                  0.0         0.0         0.0         0.0         0.0  \n",
       "\n",
       "[5 rows x 65315 columns]"
      ]
     },
     "execution_count": 21,
     "metadata": {},
     "output_type": "execute_result"
    }
   ],
   "source": [
    "final_ratings_matrix['user_index'] = np.arange(0, final_ratings_matrix.shape[0])\n",
    "final_ratings_matrix.set_index(['user_index'], inplace=True)\n",
    "\n",
    "# Actual ratings given by users\n",
    "final_ratings_matrix.head()"
   ]
  },
  {
   "cell_type": "code",
   "execution_count": 22,
   "metadata": {},
   "outputs": [
    {
     "data": {
      "text/plain": [
       "(1292, 65315)"
      ]
     },
     "execution_count": 22,
     "metadata": {},
     "output_type": "execute_result"
    }
   ],
   "source": [
    "final_ratings_matrix.shape"
   ]
  },
  {
   "cell_type": "code",
   "execution_count": 23,
   "metadata": {},
   "outputs": [],
   "source": [
    "from sklearn.neighbors import NearestNeighbors\n",
    "\n",
    "k = 5\n",
    "\n",
    "model = NearestNeighbors(n_neighbors=k , metric='cosine')\n",
    "model.fit(final_ratings_matrix)\n",
    "\n",
    "distances, indices = model.kneighbors(final_ratings_matrix)\n"
   ]
  },
  {
   "cell_type": "code",
   "execution_count": 24,
   "metadata": {},
   "outputs": [],
   "source": [
    "def get_recommendations(user_index, num_recommendations=5):\n",
    "    # Get the indices of k-nearest neighbors\n",
    "    neighbor_indices = indices[user_index, 1:]\n",
    "\n",
    "    # Find products that the user has not interacted with\n",
    "    user_products = final_ratings_matrix.columns[final_ratings_matrix.loc[user_index] > 0]\n",
    "    neighbor_products = set(final_ratings_matrix.columns[final_ratings_matrix.iloc[neighbor_indices].sum(axis=0) > 0])\n",
    "    recommendations = list(neighbor_products.difference(user_products))\n",
    "\n",
    "    # Return top N recommendations\n",
    "    return recommendations[:num_recommendations]"
   ]
  },
  {
   "cell_type": "code",
   "execution_count": 25,
   "metadata": {},
   "outputs": [
    {
     "name": "stdout",
     "output_type": "stream",
     "text": [
      "Recommended products for user 899: ['B004OYR8WG', 'B00FXY50YY', 'B00EQ9VZDC', 'B00CUAJ7WU', 'B00172K01O']\n"
     ]
    }
   ],
   "source": [
    "user_index_to_recommend = 899  \n",
    "recommended_products = get_recommendations(user_index_to_recommend)\n",
    "print(f\"Recommended products for user {user_index_to_recommend}: {recommended_products}\")"
   ]
  },
  {
   "cell_type": "code",
   "execution_count": 26,
   "metadata": {},
   "outputs": [
    {
     "data": {
      "text/plain": [
       "'def similar_users(user_index, interactions_matrix):\\n    similarity = []\\n    for user in range(0, interactions_matrix.shape[0]):\\n        \\n        sim = cosine_similarity([interactions_matrix.loc[user_index]], [interactions_matrix.loc[user]])\\n\\n        similarity.append((user,sim))\\n\\n    similarity.sort(key=lambda x: x[1], reverse = True)\\n    most_similar_users = [tup[0] for tup in similarity]\\n    similarity_score = [tup[1] for tup in similarity]\\n\\n    most_similar_users.remove(user_index)\\n    similarity_score.remove(similarity_score[0])\\n\\n    return most_similar_users, similarity_score'"
      ]
     },
     "execution_count": 26,
     "metadata": {},
     "output_type": "execute_result"
    }
   ],
   "source": [
    "'''def similar_users(user_index, interactions_matrix):\n",
    "    similarity = []\n",
    "    for user in range(0, interactions_matrix.shape[0]):\n",
    "        \n",
    "        sim = cosine_similarity([interactions_matrix.loc[user_index]], [interactions_matrix.loc[user]])\n",
    "\n",
    "        similarity.append((user,sim))\n",
    "\n",
    "    similarity.sort(key=lambda x: x[1], reverse = True)\n",
    "    most_similar_users = [tup[0] for tup in similarity]\n",
    "    similarity_score = [tup[1] for tup in similarity]\n",
    "\n",
    "    most_similar_users.remove(user_index)\n",
    "    similarity_score.remove(similarity_score[0])\n",
    "\n",
    "    return most_similar_users, similarity_score'''"
   ]
  },
  {
   "cell_type": "code",
   "execution_count": 27,
   "metadata": {},
   "outputs": [
    {
     "data": {
      "text/plain": [
       "'similar = similar_users(953, final_ratings_matrix)[0][0:10]\\nsimilar'"
      ]
     },
     "execution_count": 27,
     "metadata": {},
     "output_type": "execute_result"
    }
   ],
   "source": [
    "'''similar = similar_users(953, final_ratings_matrix)[0][0:10]\n",
    "similar'''"
   ]
  },
  {
   "cell_type": "code",
   "execution_count": 28,
   "metadata": {},
   "outputs": [
    {
     "data": {
      "text/plain": [
       "'similar_users(200,final_ratings_matrix)[1][0:10]'"
      ]
     },
     "execution_count": 28,
     "metadata": {},
     "output_type": "execute_result"
    }
   ],
   "source": [
    "'''similar_users(200,final_ratings_matrix)[1][0:10]'''"
   ]
  },
  {
   "cell_type": "code",
   "execution_count": 29,
   "metadata": {},
   "outputs": [
    {
     "data": {
      "text/plain": [
       "\"def recommendations(user_index, num_of_products, interactions_matrix):\\n    \\n    #Saving similar users using the function similar_users defined above\\n    most_similar_users = similar_users(user_index, interactions_matrix)[0]\\n    \\n    #Finding product IDs with which the user_id has interacted\\n    prod_ids = set(list(interactions_matrix.columns[np.where(interactions_matrix.loc[user_index] > 0)]))\\n    recommendations = []\\n    \\n    observed_interactions = prod_ids.copy()\\n    for similar_user in most_similar_users:\\n        if len(recommendations) < num_of_products:\\n            \\n            #Finding 'n' products which have been rated by similar users but not by the user_id\\n            similar_user_prod_ids = set(list(interactions_matrix.columns[np.where(interactions_matrix.loc[similar_user] > 0)]))\\n            recommendations.extend(list(similar_user_prod_ids.difference(observed_interactions)))\\n            observed_interactions = observed_interactions.union(similar_user_prod_ids)\\n        else:\\n            break\\n    \\n    return recommendations[:num_of_products]\""
      ]
     },
     "execution_count": 29,
     "metadata": {},
     "output_type": "execute_result"
    }
   ],
   "source": [
    "'''def recommendations(user_index, num_of_products, interactions_matrix):\n",
    "    \n",
    "    #Saving similar users using the function similar_users defined above\n",
    "    most_similar_users = similar_users(user_index, interactions_matrix)[0]\n",
    "    \n",
    "    #Finding product IDs with which the user_id has interacted\n",
    "    prod_ids = set(list(interactions_matrix.columns[np.where(interactions_matrix.loc[user_index] > 0)]))\n",
    "    recommendations = []\n",
    "    \n",
    "    observed_interactions = prod_ids.copy()\n",
    "    for similar_user in most_similar_users:\n",
    "        if len(recommendations) < num_of_products:\n",
    "            \n",
    "            #Finding 'n' products which have been rated by similar users but not by the user_id\n",
    "            similar_user_prod_ids = set(list(interactions_matrix.columns[np.where(interactions_matrix.loc[similar_user] > 0)]))\n",
    "            recommendations.extend(list(similar_user_prod_ids.difference(observed_interactions)))\n",
    "            observed_interactions = observed_interactions.union(similar_user_prod_ids)\n",
    "        else:\n",
    "            break\n",
    "    \n",
    "    return recommendations[:num_of_products]'''"
   ]
  },
  {
   "cell_type": "code",
   "execution_count": 30,
   "metadata": {},
   "outputs": [
    {
     "data": {
      "text/plain": [
       "'recommendations(3,5,final_ratings_matrix)'"
      ]
     },
     "execution_count": 30,
     "metadata": {},
     "output_type": "execute_result"
    }
   ],
   "source": [
    "'''recommendations(3,5,final_ratings_matrix)'''\n"
   ]
  }
 ],
 "metadata": {
  "kernelspec": {
   "display_name": "base",
   "language": "python",
   "name": "python3"
  },
  "language_info": {
   "codemirror_mode": {
    "name": "ipython",
    "version": 3
   },
   "file_extension": ".py",
   "mimetype": "text/x-python",
   "name": "python",
   "nbconvert_exporter": "python",
   "pygments_lexer": "ipython3",
   "version": "3.10.8"
  },
  "orig_nbformat": 4,
  "vscode": {
   "interpreter": {
    "hash": "a90a602df4c92d01315e653cdf14e97cf63a41b9bdbd209d325689383a6c99bc"
   }
  }
 },
 "nbformat": 4,
 "nbformat_minor": 2
}
